{
 "cells": [
  {
   "cell_type": "markdown",
   "metadata": {},
   "source": [
    "### Spark Machine Learning - Music Recommendation\n"
   ]
  },
  {
   "cell_type": "code",
   "execution_count": 8,
   "metadata": {
    "collapsed": true
   },
   "outputs": [],
   "source": [
    "from pyspark.mllib.recommendation import ALS"
   ]
  },
  {
   "cell_type": "code",
   "execution_count": 3,
   "metadata": {
    "collapsed": false
   },
   "outputs": [],
   "source": [
    "def tokenize(line, exc_idx=None):\n",
    "    \"\"\"\n",
    "    Method used to cast ids to integer and return tokens\n",
    "    \"\"\"\n",
    "    tokens = ()\n",
    "    for idx, tk in enumerate(line):\n",
    "        try:\n",
    "            if idx != exc_idx:\n",
    "                tokens+=(int(tk),)\n",
    "            else:\n",
    "                tokens+=(tk,)\n",
    "        except ValueError:\n",
    "                tokens+=(0,\"\") if exc_idx else (0,)\n",
    "    if len(tokens) > 2 and exc_idx:\n",
    "        tokens = tokens[0:2]\n",
    "    return tokens\n",
    "def train_tokenize(row):\n",
    "    \"\"\"\n",
    "    Prepares data for modeling\n",
    "    \"\"\"\n",
    "    fin_artist_id = brdc_artists_alias.value.get(row[1]) \\\n",
    "        if brdc_artists_alias.value.get(row[1]) \\\n",
    "        else row[1]\n",
    "    return (row[0], fin_artist_id, row[2])\n"
   ]
  },
  {
   "cell_type": "code",
   "execution_count": 4,
   "metadata": {
    "collapsed": true
   },
   "outputs": [],
   "source": [
    "# Loading artist data, artist alias and user artist data files into RDDs\n",
    "\n",
    "raw_artist_data = sc.textFile(\"./artist_data.txt\", 5)\n",
    "artist_by_id = raw_artist_data.map(lambda line: line.split('\\t'))\\\n",
    "                        .map(lambda token: tokenize(token, 1))\n",
    "raw_artist_alias = sc.textFile(\"./artist_alias.txt\")\n",
    "artists_alias = raw_artist_alias.map(lambda line: line.split(\"\\t\"))\\\n",
    "                        .map(lambda token: tokenize(token))\n",
    "raw_user_artist_data = sc.textFile(\"./user_artist_data.txt\")\n",
    "user_artist_data = raw_user_artist_data.map(lambda line: line.split())\\\n",
    "                        .map(lambda token: tokenize(token))"
   ]
  },
  {
   "cell_type": "markdown",
   "metadata": {},
   "source": [
    "### Creating Model"
   ]
  },
  {
   "cell_type": "code",
   "execution_count": 5,
   "metadata": {
    "collapsed": false
   },
   "outputs": [],
   "source": [
    "# Broadcast global variable for use in getting the right artist id\n",
    "brdc_artists_alias = sc.broadcast(artists_alias.collectAsMap())"
   ]
  },
  {
   "cell_type": "code",
   "execution_count": 6,
   "metadata": {
    "collapsed": true
   },
   "outputs": [],
   "source": [
    "trainRDD = user_artist_data.map(lambda row: train_tokenize(row)).cache()"
   ]
  },
  {
   "cell_type": "code",
   "execution_count": 9,
   "metadata": {
    "collapsed": false
   },
   "outputs": [],
   "source": [
    "model = ALS.trainImplicit(trainRDD, 10, 5, 0.01, 1)"
   ]
  },
  {
   "cell_type": "markdown",
   "metadata": {},
   "source": [
    "### Spot Checking Recommendations\n",
    "Extract the IDs of artists that this user has listened to and print their names. This means searching the input for artist IDs for this user, and then filtering the set of artists by these IDs so you can collect and print the names in order:\n",
    "\n",
    "Testing the model by looking at recommendations for user: **_1052043_**"
   ]
  },
  {
   "cell_type": "code",
   "execution_count": 10,
   "metadata": {
    "collapsed": true
   },
   "outputs": [],
   "source": [
    "# To check recommendation for other users, change user_id here.\n",
    "test_user_id = 2093760"
   ]
  },
  {
   "cell_type": "code",
   "execution_count": null,
   "metadata": {
    "collapsed": false
   },
   "outputs": [],
   "source": [
    "# Getting all artists user test_user_id has listened to\n",
    "artists_for_user = user_artist_data.filter(lambda l: l[0] == test_user_id)\n",
    "existing_products = set(artists_for_user.map(lambda l: l[1]).collect())\n",
    "\n",
    "# Getting the names and ids of artists user has listened to\n",
    "artists_for_user = artist_by_id.filter(lambda art: art[0] in existing_products)\\\n",
    "                    .map(lambda art: art[1]).collect()\n",
    "\n",
    "# print(artists_for_user)"
   ]
  },
  {
   "cell_type": "code",
   "execution_count": 11,
   "metadata": {
    "collapsed": true
   },
   "outputs": [],
   "source": [
    "# Getting top 10 recommendations for the user test_user_id. \n",
    "\n",
    "recommendations = model.call(\"recommendProducts\",test_user_id, 10)\n",
    "recommended_product_ids = set([r[1] for r in recommendations])\n",
    "\n",
    "# Getting the recommended artist names.\n",
    "recommended_artists = artist_by_id.filter(lambda art: art[0] in recommended_product_ids)\\\n",
    "                          .map(lambda tup: tup[1]).collect()"
   ]
  },
  {
   "cell_type": "code",
   "execution_count": 12,
   "metadata": {
    "collapsed": false
   },
   "outputs": [
    {
     "name": "stdout",
     "output_type": "stream",
     "text": [
      "Top 10 Recommendations:\n",
      "\n",
      "(1). 50 Cent\n",
      "(2). Snoop Dogg\n",
      "(3). Nas\n",
      "(4). Jay-Z\n",
      "(5). Kanye West\n",
      "(6). Dr. Dre\n",
      "(7). 2Pac\n",
      "(8). Outkast\n",
      "(9). The Roots\n",
      "(10). Beastie Boys\n"
     ]
    }
   ],
   "source": [
    "print(\"Top 10 Recommendations:\\n\")\n",
    "for idx, muc in enumerate(recommended_artists):\n",
    "    print (\"(%i). %s\"%(idx+1,muc))"
   ]
  },
  {
   "cell_type": "code",
   "execution_count": null,
   "metadata": {
    "collapsed": true
   },
   "outputs": [],
   "source": []
  }
 ],
 "metadata": {
  "kernelspec": {
   "display_name": "Python 2",
   "language": "python",
   "name": "python2"
  },
  "language_info": {
   "codemirror_mode": {
    "name": "ipython",
    "version": 2
   },
   "file_extension": ".py",
   "mimetype": "text/x-python",
   "name": "python",
   "nbconvert_exporter": "python",
   "pygments_lexer": "ipython2",
   "version": "2.7.6"
  }
 },
 "nbformat": 4,
 "nbformat_minor": 0
}
